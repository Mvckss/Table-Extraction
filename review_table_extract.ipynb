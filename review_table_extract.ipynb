{
 "cells": [
  {
   "cell_type": "code",
   "execution_count": 1,
   "metadata": {
    "executionInfo": {
     "elapsed": 1182,
     "status": "ok",
     "timestamp": 1735791861957,
     "user": {
      "displayName": "Đức Trần Vũ",
      "userId": "03020300546743228278"
     },
     "user_tz": -420
    },
    "id": "fUYLOwG8SHQP"
   },
   "outputs": [],
   "source": [
    "import os\n",
    "import pandas as pd\n",
    "\n",
    "def create_image_log(user_name, image_folder, log_path):\n",
    "    os.makedirs(log_path, exist_ok=True)\n",
    "    log_file = os.path.join(log_path, f\"{user_name}_image_log.csv\")\n",
    "    images = [f for f in os.listdir(image_folder) if f.endswith(('.png', '.jpg'))]\n",
    "    image_data = []\n",
    "\n",
    "    if os.path.exists(log_file):\n",
    "        log_df = pd.read_csv(log_file)\n",
    "        if 'Processing Status' not in log_df.columns:\n",
    "            log_df['Processing Status'] = 'Not Started'\n",
    "        existing_images = set(log_df['Image Name'])\n",
    "    else:\n",
    "        log_df = pd.DataFrame(columns=['Image Name', 'Image Path', 'Status', 'HTML Link', 'Processing Status'])\n",
    "        existing_images = set()\n",
    "\n",
    "    for img in images:\n",
    "        if img not in existing_images:\n",
    "            image_data.append({\n",
    "                'Image Name': img,\n",
    "                'Image Path': os.path.join(image_folder, img),\n",
    "                'Status': 'Not Review',\n",
    "                'HTML Link': '',\n",
    "                'Processing Status': 'Not Started'\n",
    "            })\n",
    "\n",
    "    if image_data:\n",
    "        new_log_df = pd.DataFrame(image_data)\n",
    "        log_df = pd.concat([log_df, new_log_df], ignore_index=True)\n",
    "\n",
    "    log_df.to_csv(log_file, index=False)\n",
    "    print(f\"Log updated for {user_name} at {log_file}\")\n",
    "    return log_file\n"
   ]
  },
  {
   "cell_type": "code",
   "execution_count": 2,
   "metadata": {
    "executionInfo": {
     "elapsed": 358,
     "status": "ok",
     "timestamp": 1735791876269,
     "user": {
      "displayName": "Đức Trần Vũ",
      "userId": "03020300546743228278"
     },
     "user_tz": -420
    },
    "id": "ymCouCEjScl4"
   },
   "outputs": [],
   "source": [
    "def sync_image_log(user_name, image_folder, log_path):\n",
    "    log_file = os.path.join(log_path, f\"{user_name}_image_log.csv\")\n",
    "\n",
    "    if not os.path.exists(log_file):\n",
    "        print(f\"No log file found for {user_name}. Creating a new one...\")\n",
    "        return create_image_log(user_name, image_folder, log_path)\n",
    "\n",
    "    log_df = pd.read_csv(log_file)\n",
    "\n",
    "    if 'Processing Status' not in log_df.columns:\n",
    "        log_df['Processing Status'] = 'Not Started'\n",
    "\n",
    "    images_in_folder = set(f for f in os.listdir(image_folder) if f.endswith(('.png', '.jpg')))\n",
    "    images_in_log = set(log_df['Image Name'])\n",
    "\n",
    "    new_images = images_in_folder - images_in_log\n",
    "    for img in new_images:\n",
    "        log_df = pd.concat([log_df, pd.DataFrame([{\n",
    "            'Image Name': img,\n",
    "            'Image Path': os.path.join(image_folder, img),\n",
    "            'Status': 'Not Review',\n",
    "            'HTML Link': '',\n",
    "            'Processing Status': 'Not Started'\n",
    "        }])], ignore_index=True)\n",
    "\n",
    "    removed_images = images_in_log - images_in_folder\n",
    "    log_df = log_df[~log_df['Image Name'].isin(removed_images)]\n",
    "\n",
    "    log_df.to_csv(log_file, index=False)\n",
    "    print(f\"Log synchronized for {user_name}\")\n",
    "\n",
    "    return log_file"
   ]
  },
  {
   "cell_type": "code",
   "execution_count": 3,
   "metadata": {
    "colab": {
     "base_uri": "https://localhost:8080/"
    },
    "executionInfo": {
     "elapsed": 3803,
     "status": "ok",
     "timestamp": 1735791903060,
     "user": {
      "displayName": "Đức Trần Vũ",
      "userId": "03020300546743228278"
     },
     "user_tz": -420
    },
    "id": "HpKbWX9wShaL",
    "outputId": "5ff8626a-03d3-4594-ae0b-fd5830fe52d9"
   },
   "outputs": [
    {
     "name": "stdout",
     "output_type": "stream",
     "text": [
      "Log synchronized for Ant\n"
     ]
    }
   ],
   "source": [
    "user_name = \"Ant\"\n",
    "image_folder = f\"user/dataset/table_ocr/image/local/{user_name}\"\n",
    "log_path = \"user/file_logs/ocr_logs\"\n",
    "\n",
    "log_file = sync_image_log(user_name, image_folder, log_path)"
   ]
  },
  {
   "cell_type": "code",
   "execution_count": 4,
   "metadata": {
    "executionInfo": {
     "elapsed": 365,
     "status": "ok",
     "timestamp": 1735791906312,
     "user": {
      "displayName": "Đức Trần Vũ",
      "userId": "03020300546743228278"
     },
     "user_tz": -420
    },
    "id": "HTEq8YaJV02u"
   },
   "outputs": [],
   "source": [
    "import os\n",
    "import pandas as pd\n",
    "from PIL import Image\n",
    "import ipywidgets as widgets\n",
    "from IPython.display import display, clear_output\n",
    "\n",
    "def review_images_gui(user_name, log_file, skip_reviewed=True):\n",
    "    # Load log file\n",
    "    log_df = pd.read_csv(log_file)\n",
    "    log_df = log_df.reset_index(drop=True)\n",
    "\n",
    "    \n",
    "    status_filter = widgets.Dropdown(\n",
    "        options=['All', 'Not Review', 'Accept', 'Decline'],\n",
    "        value='Not Review' if skip_reviewed else 'All',\n",
    "        description='Filter:',\n",
    "        disabled=False,\n",
    "    )\n",
    "\n",
    "    def update_idx_list():\n",
    "        if status_filter.value == 'All':\n",
    "            return log_df.index.tolist()\n",
    "        return log_df[log_df['Status'] == status_filter.value].index.tolist()\n",
    "\n",
    "    \n",
    "    idx_list = update_idx_list()\n",
    "    if not idx_list:\n",
    "        print(\"No images to display!\")\n",
    "        return\n",
    "\n",
    "    \n",
    "    image_widget = widgets.Image(format='png', layout=widgets.Layout(width='800px', height='auto', margin='10px 0'))\n",
    "    status_label = widgets.HTML(value=\"<b>Reviewing:</b>\")\n",
    "    current_status_label = widgets.HTML(value=\"<b>Status:</b> Not Review\")\n",
    "\n",
    "    accept_button = widgets.Button(description=\"Accept\", button_style=\"success\")\n",
    "    decline_button = widgets.Button(description=\"Decline\", button_style=\"danger\")\n",
    "    skip_button = widgets.Button(description=\"Skip\", button_style=\"info\")\n",
    "    back_button = widgets.Button(description=\"Back\", button_style=\"warning\")\n",
    "    next_button = widgets.Button(description=\"Next\", button_style=\"primary\")\n",
    "    show_latest_button = widgets.Button(description=\"Show Latest\", button_style=\"warning\")\n",
    "\n",
    "    jump_to_input = widgets.BoundedIntText(\n",
    "        value=0,\n",
    "        min=0,\n",
    "        max=len(log_df) - 1,\n",
    "        step=1,\n",
    "        description='Jump to:',\n",
    "        layout=widgets.Layout(width='150px')\n",
    "    )\n",
    "    jump_to_button = widgets.Button(description=\"Go\", button_style=\"info\")\n",
    "\n",
    "    jump_box = widgets.HBox(\n",
    "        [jump_to_input, jump_to_button],\n",
    "        layout=widgets.Layout(margin='0 0 0 20px', display='none')\n",
    "    )\n",
    "\n",
    "    output = widgets.Output()\n",
    "\n",
    "\n",
    "    current_index = idx_list[0]\n",
    "\n",
    "    def load_image(idx):\n",
    "        \"\"\"Load ảnh từ log file.\"\"\"\n",
    "        img_path = log_df.loc[idx, 'Image Path']\n",
    "        with open(img_path, \"rb\") as file:\n",
    "            image_widget.value = file.read()\n",
    "        status_label.value = f\"<b>Reviewing:</b> {log_df.loc[idx, 'Image Name']} ({idx_list.index(idx) + 1}/{len(idx_list)})\"\n",
    "        current_status_label.value = f\"<b>Status:</b> {log_df.loc[idx, 'Status']}\"\n",
    "\n",
    "    def handle_button_click(button):\n",
    "        \"\"\"Xử lý khi bấm nút Accept, Decline hoặc Skip.\"\"\"\n",
    "        nonlocal current_index, idx_list\n",
    "\n",
    "        if button.description == \"Accept\":\n",
    "            log_df.loc[current_index, 'Status'] = 'Accept'\n",
    "        elif button.description == \"Decline\":\n",
    "            log_df.loc[current_index, 'Status'] = 'Decline'\n",
    "\n",
    "        \n",
    "        log_df.to_csv(log_file, index=False)\n",
    "\n",
    "       \n",
    "        current_status_label.value = f\"<b>Status:</b> {log_df.loc[current_index, 'Status']}\"\n",
    "\n",
    " \n",
    "        if status_filter.value != 'All':\n",
    "            idx_list = update_idx_list()\n",
    "\n",
    "        if button.description != \"Skip\":\n",
    "            if current_index in idx_list:\n",
    "                idx_list.remove(current_index)\n",
    "        if idx_list:\n",
    "            current_index = idx_list[0]\n",
    "            load_image(current_index)\n",
    "        else:\n",
    "            status_label.value = f\"<b>No more images in '{status_filter.value}' status!</b>\"\n",
    "\n",
    "    def handle_navigation(button):\n",
    "        \"\"\"Xử lý nút Back và Next.\"\"\"\n",
    "        nonlocal current_index, idx_list\n",
    "\n",
    "        current_pos = idx_list.index(current_index)\n",
    "        if button.description == \"Back\" and current_pos > 0:\n",
    "            current_index = idx_list[current_pos - 1]\n",
    "        elif button.description == \"Next\" and current_pos < len(idx_list) - 1:\n",
    "            current_index = idx_list[current_pos + 1]\n",
    "\n",
    "        load_image(current_index)\n",
    "\n",
    "    def handle_jump(button):\n",
    "        \"\"\"Xử lý khi người dùng nhập số ảnh để nhảy đến.\"\"\"\n",
    "        nonlocal current_index, idx_list\n",
    "\n",
    "        jump_to_idx = jump_to_input.value\n",
    "        if 0 <= jump_to_idx < len(log_df):\n",
    "            current_index = jump_to_idx\n",
    "            load_image(current_index)\n",
    "        else:\n",
    "            status_label.value = f\"<b>Index {jump_to_idx} is out of bounds.</b>\"\n",
    "\n",
    "    def handle_show_latest(button):\n",
    "        \"\"\"Xử lý khi bấm nút Show Latest.\"\"\"\n",
    "        nonlocal current_index, idx_list\n",
    "\n",
    "\n",
    "        for idx in idx_list:\n",
    "            if log_df.loc[idx, 'Status'] == 'Not Review':\n",
    "                current_index = idx\n",
    "                load_image(current_index)\n",
    "                return\n",
    "\n",
    "        status_label.value = \"<b>No images left to review!</b>\"\n",
    "\n",
    "    def handle_filter_change(change):\n",
    "        \"\"\"Xử lý khi thay đổi bộ lọc.\"\"\"\n",
    "        nonlocal current_index, idx_list\n",
    "        idx_list = update_idx_list()\n",
    "\n",
    "\n",
    "        if status_filter.value == 'All':\n",
    "            jump_box.layout.display = 'flex'\n",
    "        else:\n",
    "            jump_box.layout.display = 'none'\n",
    "\n",
    "        if idx_list:\n",
    "            current_index = idx_list[0]\n",
    "            load_image(current_index)\n",
    "        else:\n",
    "            status_label.value = f\"<b>No images with '{status_filter.value}' status!</b>\"\n",
    "            image_widget.value = b''\n",
    "\n",
    "    accept_button.on_click(handle_button_click)\n",
    "    decline_button.on_click(handle_button_click)\n",
    "    skip_button.on_click(lambda button: handle_button_click(skip_button))\n",
    "    back_button.on_click(handle_navigation)\n",
    "    next_button.on_click(handle_navigation)\n",
    "    jump_to_button.on_click(handle_jump)\n",
    "    show_latest_button.on_click(handle_show_latest)\n",
    "    status_filter.observe(handle_filter_change, names='value')\n",
    "\n",
    "    if skip_reviewed:\n",
    "        show_latest_button.layout.display = 'none'\n",
    "        status_filter.disabled = True\n",
    "        jump_box.layout.display = 'none'\n",
    "\n",
    "    load_image(current_index)\n",
    "    \n",
    "    filter_box = widgets.HBox([status_filter], layout=widgets.Layout(margin='10px 0'))\n",
    "\n",
    "    buttons_top = widgets.HBox([\n",
    "        back_button,\n",
    "        next_button,\n",
    "        show_latest_button\n",
    "    ], layout=widgets.Layout(margin='10px 0'))\n",
    "\n",
    "    buttons_bottom = widgets.HBox([\n",
    "        accept_button,\n",
    "        decline_button,\n",
    "        skip_button,\n",
    "        jump_box\n",
    "    ], layout=widgets.Layout(margin='10px 0'))\n",
    "\n",
    "    display(widgets.VBox([\n",
    "        filter_box,\n",
    "        image_widget,\n",
    "        status_label,\n",
    "        current_status_label,\n",
    "        buttons_top,\n",
    "        buttons_bottom\n",
    "    ]))"
   ]
  },
  {
   "cell_type": "code",
   "execution_count": 5,
   "metadata": {
    "colab": {
     "base_uri": "https://localhost:8080/",
     "height": 311
    },
    "executionInfo": {
     "elapsed": 705,
     "status": "error",
     "timestamp": 1735791916434,
     "user": {
      "displayName": "Đức Trần Vũ",
      "userId": "03020300546743228278"
     },
     "user_tz": -420
    },
    "id": "FEO0AWjPV23j",
    "outputId": "b72a5af3-a958-4ad2-a633-735767bbac87"
   },
   "outputs": [
    {
     "data": {
      "application/vnd.jupyter.widget-view+json": {
       "model_id": "8c1afe7e2e424754a202c33cd52a7db5",
       "version_major": 2,
       "version_minor": 0
      },
      "text/plain": [
       "VBox(children=(HBox(children=(Dropdown(description='Filter:', options=('All', 'Not Review', 'Accept', 'Decline…"
      ]
     },
     "metadata": {},
     "output_type": "display_data"
    }
   ],
   "source": [
    "review_images_gui(user_name, log_file, skip_reviewed=False)"
   ]
  }
 ],
 "metadata": {
  "colab": {
   "provenance": []
  },
  "kernelspec": {
   "display_name": "Python 3",
   "name": "python3"
  },
  "language_info": {
   "codemirror_mode": {
    "name": "ipython",
    "version": 3
   },
   "file_extension": ".py",
   "mimetype": "text/x-python",
   "name": "python",
   "nbconvert_exporter": "python",
   "pygments_lexer": "ipython3",
   "version": "3.13.6"
  }
 },
 "nbformat": 4,
 "nbformat_minor": 0
}
